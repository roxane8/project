{
 "cells": [
  {
   "cell_type": "code",
   "execution_count": 1,
   "metadata": {},
   "outputs": [],
   "source": [
    "import streamlit as st\n",
    "import duckdb\n",
    "import pandas as pd\n"
   ]
  },
  {
   "cell_type": "code",
   "execution_count": null,
   "metadata": {},
   "outputs": [],
   "source": [
    "#Connect to DuckDB and retrieve data:\n",
    "@st.cache\n",
    "def load_data():\n",
    "    con = duckdb.connect(database=':memory:')\n",
    "    con.execute(\"INSTALL sqlite; LOAD sqlite;\")\n",
    "    con.execute(\"PRAGMA sqlite._sqlite3.dir='./';\")  # Modify the path as needed\n",
    "    con.execute(\"CALL sqlite_attach('food_recipes.db', 'main');\")\n",
    "    \n",
    "    recipes_df = con.execute(\"SELECT * FROM recipes\").df()\n",
    "    ingredients_df = con.execute(\"SELECT * FROM ingredients\").df()\n",
    "    return recipes_df, ingredients_df\n",
    "\n",
    "recipes_df, ingredients_df = load_data()\n"
   ]
  },
  {
   "cell_type": "code",
   "execution_count": null,
   "metadata": {},
   "outputs": [],
   "source": [
    "#Build the Streamlit UI:\n",
    "st.title(\"Recipe Finder\")\n",
    "st.write(\"Enter the ingredients you have at home, and we'll show you possible recipes.\")\n",
    "\n",
    "user_ingredients = st.text_input(\"Enter ingredients separated by commas (e.g., tomato, cheese, pasta):\")\n"
   ]
  },
  {
   "cell_type": "code",
   "execution_count": null,
   "metadata": {},
   "outputs": [],
   "source": [
    "#Filter and display recipes:\n",
    "def find_recipes(user_ingredients, recipes_df, ingredients_df):\n",
    "    user_ingredients_set = set([ingredient.strip().lower() for ingredient in user_ingredients.split(',')])\n",
    "    possible_recipes = []\n",
    "\n",
    "    for index, row in recipes_df.iterrows():\n",
    "        recipe_id = row['id']\n",
    "        recipe_ingredients = ingredients_df[ingredients_df['recipe_id'] == recipe_id]['ingredient'].tolist()\n",
    "        recipe_ingredients_set = set([ingredient.lower() for ingredient in recipe_ingredients])\n",
    "        \n",
    "        if user_ingredients_set.issubset(recipe_ingredients_set):\n",
    "            possible_recipes.append(row['title'])\n",
    "    \n",
    "    return possible_recipes\n",
    "\n",
    "if st.button(\"Find Recipes\"):\n",
    "    if user_ingredients:\n",
    "        possible_recipes = find_recipes(user_ingredients, recipes_df, ingredients_df)\n",
    "        if possible_recipes:\n",
    "            st.write(\"Here are some recipes you can make:\")\n",
    "            for recipe in possible_recipes:\n",
    "                st.write(f\"- {recipe}\")\n",
    "        else:\n",
    "            st.write(\"No recipes found with the given ingredients.\")\n",
    "    else:\n",
    "        st.write(\"Please enter some ingredients.\")\n"
   ]
  },
  {
   "cell_type": "code",
   "execution_count": null,
   "metadata": {},
   "outputs": [],
   "source": [
    "streamlit run app.py\n"
   ]
  }
 ],
 "metadata": {
  "kernelspec": {
   "display_name": "Python 3",
   "language": "python",
   "name": "python3"
  },
  "language_info": {
   "codemirror_mode": {
    "name": "ipython",
    "version": 3
   },
   "file_extension": ".py",
   "mimetype": "text/x-python",
   "name": "python",
   "nbconvert_exporter": "python",
   "pygments_lexer": "ipython3",
   "version": "3.11.6"
  }
 },
 "nbformat": 4,
 "nbformat_minor": 2
}
